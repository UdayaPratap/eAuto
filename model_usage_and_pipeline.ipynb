{
 "cells": [
  {
   "cell_type": "markdown",
   "metadata": {},
   "source": [
    "# Data pipeline"
   ]
  },
  {
   "cell_type": "code",
   "execution_count": 13,
   "metadata": {},
   "outputs": [],
   "source": [
    "import cv2\n",
    "import imghdr\n",
    "import pandas as pd\n",
    "import numpy as np\n",
    "import os\n",
    "import tensorflow as tf\n",
    "import cv2\n",
    "from matplotlib import pyplot as plt\n",
    "from keras.models import load_model\n",
    "from tensorflow.keras.applications.resnet50 import preprocess_input"
   ]
  },
  {
   "cell_type": "markdown",
   "metadata": {},
   "source": [
    "\n",
    "Crop only car from whole image\n",
    "\n",
    "Usage: \n",
    "1. Call is_usable(img) to check if valid image.\n",
    "2. If valid call detect_cars(img), this will detect car and crop that part only.\n",
    "3. Will return the largest detected car.\n"
   ]
  },
  {
   "cell_type": "code",
   "execution_count": 9,
   "metadata": {},
   "outputs": [],
   "source": [
    "def is_usable(image_path):\n",
    "    return os.path.isfile(image_path)\n",
    "\n",
    "\n",
    "def detect_cars(img):\n",
    "    # Load the pre-trained YOLO model\n",
    "    net = cv2.dnn.readNetFromDarknet(\"yolov3.cfg\", \"yolov3.weights\")\n",
    "\n",
    "    # Define the list of class labels for YOLO\n",
    "    class_labels = [\"car\"]\n",
    "\n",
    "    # Get the output layer names of the network\n",
    "    layer_names = net.getLayerNames()\n",
    "    output_layers = [layer_names[i - 1] for i in net.getUnconnectedOutLayers()]\n",
    "\n",
    "    # Preprocess the image\n",
    "    blob = cv2.dnn.blobFromImage(img, 1/255.0, (416, 416), swapRB=True, crop=False)\n",
    "\n",
    "    # Pass the image through the network\n",
    "    net.setInput(blob)\n",
    "    layer_outputs = net.forward(output_layers)\n",
    "\n",
    "    # Process the layer outputs to detect cars\n",
    "    boxes = []\n",
    "    confidences = []\n",
    "    class_ids = []\n",
    "    (H, W) = img.shape[:2]\n",
    "\n",
    "    for output in layer_outputs:\n",
    "        for detection in output:\n",
    "            scores = detection[5:]\n",
    "            class_id = np.argmax(scores)\n",
    "            confidence = scores[class_id]\n",
    "\n",
    "            if class_id == 2 and confidence > 0.3:  # Only detect cars with confidence higher than 0.3\n",
    "                box = detection[0:4] * np.array([W, H, W, H])\n",
    "                (center_x, center_y, width, height) = box.astype(\"int\")\n",
    "\n",
    "                x = int(center_x - (width / 2))\n",
    "                y = int(center_y - (height / 2))\n",
    "\n",
    "                boxes.append([x, y, int(width), int(height)])\n",
    "                confidences.append(float(confidence))\n",
    "                class_ids.append(class_id)\n",
    "\n",
    "    # Apply non-maxima suppression to remove overlapping bounding boxes\n",
    "    indices = cv2.dnn.NMSBoxes(boxes, confidences, 0.5, 0.3)\n",
    "\n",
    "    # Find the largest detected car area\n",
    "    max_area = 0\n",
    "    largest_car_image = None\n",
    "    for i in indices:\n",
    "        (x, y) = (boxes[i][0], boxes[i][1])\n",
    "        (w, h) = (boxes[i][2], boxes[i][3])\n",
    "        if w > 0 and h > 0:\n",
    "            area = w * h\n",
    "            if area > max_area:\n",
    "                max_area = area\n",
    "                largest_car_image = cv2.resize(img[y:y+h, x:x+w], (400, 400))\n",
    "\n",
    "    return largest_car_image"
   ]
  },
  {
   "cell_type": "markdown",
   "metadata": {},
   "source": [
    "Crop center for logo from car image\n",
    "Usage:\n",
    "1. call crop_center_square(img, size), use size= 200\n",
    "2. Returns cropped image."
   ]
  },
  {
   "cell_type": "code",
   "execution_count": null,
   "metadata": {},
   "outputs": [],
   "source": [
    "def crop_center_square(image, size):\n",
    "    h, w = image.shape[:2]\n",
    "    min_dim = min(h, w)\n",
    "    if min_dim < size:\n",
    "        raise ValueError(f\"Image dimensions ({h}, {w}) are smaller than the desired size {size}\")\n",
    "    start_x = (w - size) // 2\n",
    "    start_y = (h - size) // 2\n",
    "    cropped_image = image[start_y:start_y+size, start_x:start_x+size]\n",
    "    return cropped_image\n",
    "\n",
    "# Set the desired size of the square\n",
    "size = 200"
   ]
  },
  {
   "cell_type": "code",
   "execution_count": 1,
   "metadata": {},
   "outputs": [],
   "source": [
    "img_path=\"Give Path here\""
   ]
  },
  {
   "cell_type": "code",
   "execution_count": 14,
   "metadata": {},
   "outputs": [],
   "source": [
    "\n",
    "if is_usable(img_path):\n",
    "    img = cv2.imread(image_path)\n",
    "    car_image = detect_cars(img)\n",
    "    if car_image is not None:\n",
    "        img=car_image\n",
    "    else:\n",
    "        print(\"No car found\")\n"
   ]
  },
  {
   "cell_type": "code",
   "execution_count": 6,
   "metadata": {},
   "outputs": [],
   "source": [
    "model = load_model(r\"E:\\intel Internship\\eAuto\\Models\\model_resnet50.h5\")"
   ]
  },
  {
   "cell_type": "markdown",
   "metadata": {},
   "source": [
    "# Preprocess for model"
   ]
  },
  {
   "cell_type": "code",
   "execution_count": 15,
   "metadata": {},
   "outputs": [
    {
     "ename": "NameError",
     "evalue": "name 'img' is not defined",
     "output_type": "error",
     "traceback": [
      "\u001b[1;31m---------------------------------------------------------------------------\u001b[0m",
      "\u001b[1;31mNameError\u001b[0m                                 Traceback (most recent call last)",
      "Cell \u001b[1;32mIn[15], line 1\u001b[0m\n\u001b[1;32m----> 1\u001b[0m x\u001b[39m=\u001b[39mimg\u001b[39m.\u001b[39mimg_to_array(img)\n\u001b[0;32m      2\u001b[0m x\n\u001b[0;32m      3\u001b[0m x\u001b[39m.\u001b[39mshape\n",
      "\u001b[1;31mNameError\u001b[0m: name 'img' is not defined"
     ]
    }
   ],
   "source": [
    "x=img.img_to_array(img)\n",
    "x\n",
    "x.shape\n",
    "x=x/255\n",
    "x=np.expand_dims(x,axis=0)\n",
    "img_data=preprocess_input(x)\n",
    "img_data.shape"
   ]
  },
  {
   "cell_type": "markdown",
   "metadata": {},
   "source": [
    "Predict "
   ]
  },
  {
   "cell_type": "code",
   "execution_count": null,
   "metadata": {},
   "outputs": [],
   "source": [
    "#run model on image\n",
    "r=model.predict(img_data)\n",
    "print(r)\n",
    "#find max probability from array\n",
    "a=np.argmax(r, axis=1)\n",
    "a\n",
    "#print label of predicted car\n",
    "# Class labels (replace with your own class labels)\n",
    "class_labels = ['Ford', 'Honday', 'Hyundai', 'Nissan', 'Renault', 'Suzuki', 'Tata', 'Toyota', 'Volkswagen']\n",
    "\n",
    "print(class_labels[a[0]])\n",
    "\n",
    "# Display the image\n",
    "plt.imshow(img)\n",
    "plt.axis('off') # Remove axis ticks and labels\n",
    "plt.show()\n"
   ]
  },
  {
   "cell_type": "code",
   "execution_count": null,
   "metadata": {},
   "outputs": [],
   "source": []
  },
  {
   "cell_type": "code",
   "execution_count": null,
   "metadata": {},
   "outputs": [],
   "source": []
  }
 ],
 "metadata": {
  "kernelspec": {
   "display_name": "Python 3",
   "language": "python",
   "name": "python3"
  },
  "language_info": {
   "codemirror_mode": {
    "name": "ipython",
    "version": 3
   },
   "file_extension": ".py",
   "mimetype": "text/x-python",
   "name": "python",
   "nbconvert_exporter": "python",
   "pygments_lexer": "ipython3",
   "version": "3.9.17"
  },
  "orig_nbformat": 4
 },
 "nbformat": 4,
 "nbformat_minor": 2
}
