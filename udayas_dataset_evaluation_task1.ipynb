{
 "cells": [
  {
   "attachments": {},
   "cell_type": "markdown",
   "metadata": {},
   "source": [
    "# Manual review of dataset"
   ]
  },
  {
   "attachments": {},
   "cell_type": "markdown",
   "metadata": {},
   "source": [
    "On viewing the images in the various brand folders, I noticed that there are many unsusable images like images of car-interiors, humans etc.\n",
    "\n",
    "Thus, sufficient data pruning is required."
   ]
  },
  {
   "attachments": {},
   "cell_type": "markdown",
   "metadata": {},
   "source": [
    "# Code to remove unusable images (bad data types)"
   ]
  },
  {
   "attachments": {},
   "cell_type": "markdown",
   "metadata": {},
   "source": [
    "Many images in the dataset are unable to be read by the code, thus these images shall be removed."
   ]
  },
  {
   "cell_type": "code",
   "execution_count": 4,
   "metadata": {},
   "outputs": [
    {
     "name": "stdout",
     "output_type": "stream",
     "text": [
      "Deleted {count} images that were in unsuable formats.\n"
     ]
    }
   ],
   "source": [
    "import os\n",
    "import cv2\n",
    "import imghdr\n",
    "formats = ['jpeg','jpg', 'bmp', 'png','webp']\n",
    "data_dir = \".\\photos\"\n",
    "count=0\n",
    "for image_class in os.listdir(data_dir): \n",
    "    for image in os.listdir(os.path.join(data_dir, image_class)):\n",
    "        image_path = os.path.join(data_dir, image_class, image)\n",
    "        try: \n",
    "            img = cv2.imread(image_path)\n",
    "            img_type = imghdr.what(image_path)\n",
    "            if img_type not in formats: \n",
    "                os.remove(image_path)\n",
    "                count=count+1\n",
    "        except Exception as e: \n",
    "            os.remove(image_path)\n",
    "            count=count+1\n"
   ]
  },
  {
   "cell_type": "code",
   "execution_count": 5,
   "metadata": {},
   "outputs": [
    {
     "name": "stdout",
     "output_type": "stream",
     "text": [
      "Deleted 11 images that were in unsuable formats.\n"
     ]
    }
   ],
   "source": [
    "print(f\"Deleted {count} images that were in unsuable formats.\")"
   ]
  },
  {
   "attachments": {},
   "cell_type": "markdown",
   "metadata": {},
   "source": [
    "# Count number of images in each brand's folder"
   ]
  },
  {
   "cell_type": "code",
   "execution_count": 6,
   "metadata": {},
   "outputs": [
    {
     "name": "stdout",
     "output_type": "stream",
     "text": [
      "Ford: 597 images\n",
      "Honday: 50 images\n",
      "Hyundai: 553 images\n",
      "Nissan: 538 images\n",
      "Renault: 583 images\n",
      "Suzuki: 577 images\n",
      "Tata: 499 images\n",
      "Toyota: 620 images\n",
      "Volkswagen: 252 images\n"
     ]
    }
   ],
   "source": [
    "import os\n",
    "\n",
    "photos_dir = './photos'\n",
    "for class_dir in os.listdir(photos_dir):\n",
    "    class_path = os.path.join(photos_dir, class_dir)\n",
    "    image_count = len(os.listdir(class_path))\n",
    "    print(f\"{class_dir}: {image_count} images\")\n"
   ]
  },
  {
   "attachments": {},
   "cell_type": "markdown",
   "metadata": {},
   "source": [
    "# Data imbalance\n",
    "As the above data shows, Honda and Volkswagen have the least amount of images, so the datset is imbalanced.\n",
    "\n",
    "In future code we shall perform data augmentation on these folders to increase dataset size."
   ]
  },
  {
   "attachments": {},
   "cell_type": "markdown",
   "metadata": {},
   "source": [
    "# Remove images that are not cars"
   ]
  },
  {
   "attachments": {},
   "cell_type": "markdown",
   "metadata": {},
   "source": [
    "1. This dataset is very mixed and thus contains a huge number of images that are in no way related to the project.\n",
    "\n",
    "2. We need to remove these images from the dataset.\n",
    "\n",
    "3. We shall achieve this by using some pre-trained model to detect cars in the images.\n",
    "\n",
    "4. If there are no images detected in the car, that image is useless and needs to be removed.\n",
    "\n",
    "5. A function 'detect_cars(image)' will be needed to achieve this."
   ]
  },
  {
   "cell_type": "code",
   "execution_count": null,
   "metadata": {},
   "outputs": [],
   "source": [
    "def detect_cars(img):\n",
    "    # TODO: Add logic to detect cars in the image and add them to list\n",
    "\n",
    "    # code to return an empty list of car images\n",
    "    car_images = []\n",
    "\n",
    "    return car_images\n"
   ]
  },
  {
   "attachments": {},
   "cell_type": "markdown",
   "metadata": {},
   "source": [
    "A function named 'is_usable(image)' will be defined to check every image in the dataset for a valid size and also if it has a car or not.\n",
    "\n",
    "If the image fails any of these criteria, the following code will delete that image."
   ]
  },
  {
   "cell_type": "code",
   "execution_count": null,
   "metadata": {},
   "outputs": [],
   "source": [
    "def is_usable(image_path):\n",
    "    # Load the image using OpenCV\n",
    "    img = cv2.imread(image_path)\n",
    "\n",
    "    # Use the provided detect_cars function to detect cars in the image\n",
    "    car_images = detect_cars(img)\n",
    "\n",
    "    # Check if any car images were detected\n",
    "    return len(car_images) > 0\n",
    "\n",
    "photos_dir = 'photos'\n",
    "for class_dir in os.listdir(photos_dir): #iterate through folders\n",
    "    class_path = os.path.join(photos_dir, class_dir)\n",
    "    for image_name in os.listdir(class_path): #iterate through images in a folder\n",
    "        image_path = os.path.join(class_path, image_name)\n",
    "        if not is_usable(image_path): #check if image is usable\n",
    "            os.remove(image_path) #remove if not usable"
   ]
  },
  {
   "attachments": {},
   "cell_type": "markdown",
   "metadata": {},
   "source": [
    "# Checking image quality and applying sharpening if required."
   ]
  },
  {
   "attachments": {},
   "cell_type": "markdown",
   "metadata": {},
   "source": [
    "Firstly we count the number of images that are low-quality and/or require sharpening and cropping."
   ]
  },
  {
   "cell_type": "code",
   "execution_count": 7,
   "metadata": {},
   "outputs": [
    {
     "name": "stdout",
     "output_type": "stream",
     "text": [
      "Number of low resolution images: 230\n",
      "Number of images requiring cropping: 4269\n"
     ]
    }
   ],
   "source": [
    "import PIL\n",
    "import os\n",
    "from PIL import Image\n",
    "\n",
    "def is_low_resolution(img, min_size):\n",
    "    # Check if the image is smaller than the minimum size in either dimension\n",
    "    return img.size[0] < min_size[0] or img.size[1] < min_size[1]\n",
    "\n",
    "def requires_cropping(img, size):\n",
    "    # Check if the image is not already the given size\n",
    "    return img.size != size\n",
    "\n",
    "photos_dir = './photos'\n",
    "min_size = (256, 256)\n",
    "size = (256, 256)\n",
    "low_res_count = 0\n",
    "crop_count = 0\n",
    "\n",
    "for class_dir in os.listdir(photos_dir):\n",
    "    class_path = os.path.join(photos_dir, class_dir)\n",
    "    for image_name in os.listdir(class_path):\n",
    "        image_path = os.path.join(class_path, image_name)\n",
    "        img = Image.open(image_path)\n",
    "\n",
    "        # Check if the image is low resolution\n",
    "        if is_low_resolution(img, min_size):\n",
    "            low_res_count += 1\n",
    "\n",
    "        # Check if the image requires cropping\n",
    "        if requires_cropping(img, size):\n",
    "            crop_count += 1\n",
    "\n",
    "print(f\"Number of low resolution images: {low_res_count}\")\n",
    "print(f\"Number of images requiring cropping: {crop_count}\")\n"
   ]
  },
  {
   "attachments": {},
   "cell_type": "markdown",
   "metadata": {},
   "source": [
    "# Above code shows that around 230 images require sharpening and almost all require cropping"
   ]
  },
  {
   "cell_type": "code",
   "execution_count": null,
   "metadata": {},
   "outputs": [],
   "source": [
    "def is_sharp_enough(img):\n",
    "    # TODO: Add logic to check if the image is sharp enough\n",
    "    return True\n",
    "\n",
    "def sharpen_image(img):\n",
    "    # TODO: Add logic to sharpen the image\n",
    "    return img\n",
    "\n",
    "def crop_image(img, size):\n",
    "    # TODO: Add logic to crop the image to the given size\n",
    "    return img\n",
    "\n",
    "def augment_image(img):\n",
    "    # TODO: Add logic to perform image augmentation\n",
    "    return img\n"
   ]
  },
  {
   "attachments": {},
   "cell_type": "markdown",
   "metadata": {},
   "source": [
    "# PROBLEM FACED: Extract only front-facing cars"
   ]
  },
  {
   "attachments": {},
   "cell_type": "markdown",
   "metadata": {},
   "source": [
    "The major problem I have faced in this dataset is extracting only the front-facing vehicles from all types of vehicles. Since all major publicly-available models identify cars and not just front-facing cars.\n",
    "\n",
    "1. Maybe an improved dataset is provided so that there is no need to extract front-facing cars.\n",
    "2. Otherwise need to extract front facing cars."
   ]
  },
  {
   "attachments": {},
   "cell_type": "markdown",
   "metadata": {},
   "source": [
    "# Manual inspection of the dataset"
   ]
  },
  {
   "attachments": {},
   "cell_type": "markdown",
   "metadata": {},
   "source": [
    "After all of the above process the data should be refined than before.\n",
    "\n",
    "We can now manually go through the dataset and remove any leftover unusable images in the dataset."
   ]
  },
  {
   "attachments": {},
   "cell_type": "markdown",
   "metadata": {},
   "source": []
  }
 ],
 "metadata": {
  "kernelspec": {
   "display_name": "udayas_eauto_project",
   "language": "python",
   "name": "python3"
  },
  "language_info": {
   "codemirror_mode": {
    "name": "ipython",
    "version": 3
   },
   "file_extension": ".py",
   "mimetype": "text/x-python",
   "name": "python",
   "nbconvert_exporter": "python",
   "pygments_lexer": "ipython3",
   "version": "3.8.16"
  },
  "orig_nbformat": 4
 },
 "nbformat": 4,
 "nbformat_minor": 2
}
