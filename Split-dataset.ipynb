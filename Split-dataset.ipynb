{
 "cells": [
  {
   "cell_type": "markdown",
   "metadata": {},
   "source": [
    "# Split dataset"
   ]
  },
  {
   "cell_type": "code",
   "execution_count": 2,
   "metadata": {},
   "outputs": [],
   "source": [
    "import os\n",
    "import shutil\n",
    "import random\n",
    "\n",
    "# Set the path to your dataset folder\n",
    "dataset_folder = \"./photos2\"\n",
    "\n",
    "# Set the desired split ratio between train and test datasets\n",
    "train_ratio = 0.8  # 80% for training, 20% for testing\n",
    "\n",
    "# Set the path for the output train and test folders\n",
    "output_train_folder = \"./train\"\n",
    "output_test_folder = \"./test\"\n",
    "\n",
    "# Create output folders if they don't exist\n",
    "os.makedirs(output_train_folder, exist_ok=True)\n",
    "os.makedirs(output_test_folder, exist_ok=True)\n",
    "\n",
    "# Iterate over the classes in the dataset folder\n",
    "for class_name in os.listdir(dataset_folder):\n",
    "    class_folder = os.path.join(dataset_folder, class_name)\n",
    "\n",
    "    if not os.path.isdir(class_folder):\n",
    "        continue\n",
    "\n",
    "    # Create class folders in the output train and test folders\n",
    "    output_train_class_folder = os.path.join(output_train_folder, class_name)\n",
    "    output_test_class_folder = os.path.join(output_test_folder, class_name)\n",
    "\n",
    "    os.makedirs(output_train_class_folder, exist_ok=True)\n",
    "    os.makedirs(output_test_class_folder, exist_ok=True)\n",
    "\n",
    "    # Get the list of images in the class folder\n",
    "    images = os.listdir(class_folder)\n",
    "\n",
    "    # Shuffle the images randomly\n",
    "    random.shuffle(images)\n",
    "\n",
    "    # Calculate the split index\n",
    "    split_index = int(len(images) * train_ratio)\n",
    "\n",
    "    # Split the images into train and test sets\n",
    "    train_images = images[:split_index]\n",
    "    test_images = images[split_index:]\n",
    "\n",
    "    # Move train images to the output train folder\n",
    "    for image_name in train_images:\n",
    "        src_path = os.path.join(class_folder, image_name)\n",
    "        dst_path = os.path.join(output_train_class_folder, image_name)\n",
    "        shutil.copy(src_path, dst_path)\n",
    "\n",
    "    # Move test images to the output test folder\n",
    "    for image_name in test_images:\n",
    "        src_path = os.path.join(class_folder, image_name)\n",
    "        dst_path = os.path.join(output_test_class_folder, image_name)\n",
    "        shutil.copy(src_path, dst_path)\n"
   ]
  },
  {
   "cell_type": "markdown",
   "metadata": {},
   "source": []
  }
 ],
 "metadata": {
  "kernelspec": {
   "display_name": "tf",
   "language": "python",
   "name": "python3"
  },
  "language_info": {
   "codemirror_mode": {
    "name": "ipython",
    "version": 3
   },
   "file_extension": ".py",
   "mimetype": "text/x-python",
   "name": "python",
   "nbconvert_exporter": "python",
   "pygments_lexer": "ipython3",
   "version": "3.9.17"
  },
  "orig_nbformat": 4
 },
 "nbformat": 4,
 "nbformat_minor": 2
}
